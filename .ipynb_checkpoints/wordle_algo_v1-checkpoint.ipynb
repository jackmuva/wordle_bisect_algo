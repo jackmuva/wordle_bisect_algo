{
 "cells": [
  {
   "cell_type": "code",
   "execution_count": 1,
   "metadata": {},
   "outputs": [],
   "source": [
    "import statistics as stats"
   ]
  },
  {
   "cell_type": "code",
   "execution_count": 2,
   "metadata": {},
   "outputs": [],
   "source": [
    "def game_result(word_inputted, real_word):\n",
    "    results_dict = {}\n",
    "    for position, char in enumerate(word_inputted):\n",
    "        if char == real_word[position]:\n",
    "            results_dict[position] = {'letter' : char, 'result' : 2}\n",
    "        elif char in real_word:\n",
    "            results_dict[position] = {'letter' : char, 'result' : 1}\n",
    "        else:\n",
    "            results_dict[position] = {'letter' : char, 'result' : 0}\n",
    "    return results_dict"
   ]
  },
  {
   "cell_type": "code",
   "execution_count": 3,
   "metadata": {},
   "outputs": [
    {
     "data": {
      "text/plain": [
       "{0: {'letter': 'a', 'result': 0},\n",
       " 1: {'letter': 'b', 'result': 0},\n",
       " 2: {'letter': 'c', 'result': 0},\n",
       " 3: {'letter': 'd', 'result': 0},\n",
       " 4: {'letter': 'e', 'result': 0}}"
      ]
     },
     "execution_count": 3,
     "metadata": {},
     "output_type": "execute_result"
    }
   ],
   "source": [
    "game_result('abcde', 'pqrst')"
   ]
  },
  {
   "cell_type": "markdown",
   "metadata": {},
   "source": [
    "# Most Basic Strategy: pick words one at a time"
   ]
  },
  {
   "cell_type": "code",
   "execution_count": 4,
   "metadata": {},
   "outputs": [],
   "source": [
    "possible_words = ['abcde', 'fghij', 'klmno',\n",
    "                 'pqrst', 'uvwxy' , 'zabcd']"
   ]
  },
  {
   "cell_type": "code",
   "execution_count": 5,
   "metadata": {},
   "outputs": [],
   "source": [
    "letters_left = [char for char in 'abcdefghijklmnopqrstuvwxyz']"
   ]
  },
  {
   "cell_type": "code",
   "execution_count": 6,
   "metadata": {},
   "outputs": [
    {
     "data": {
      "text/plain": [
       "4"
      ]
     },
     "execution_count": 6,
     "metadata": {},
     "output_type": "execute_result"
    }
   ],
   "source": [
    "game_continues = True\n",
    "move_counter = 0\n",
    "correct_word = 'pqrst'\n",
    "clues = {}\n",
    "\n",
    "while game_continues:\n",
    "    #picks first available word that still has letters left\n",
    "    word_picked = ''\n",
    "    for word in possible_words:\n",
    "        letters_in_word = 0\n",
    "        for letter in letters_left:\n",
    "            if letter in word:\n",
    "                letters_in_word += 1\n",
    "        if letters_in_word == 5:\n",
    "            word_picked = word\n",
    "            break\n",
    "    \n",
    "    #Updates our letter bank and stores our clues\n",
    "    word_score = 0\n",
    "    results_dict = game_result(word_picked, correct_word)\n",
    "    \n",
    "    for position, sec_dict in results_dict.items():\n",
    "        if sec_dict['result'] == 0:\n",
    "            letters_left.remove(sec_dict['letter'])\n",
    "        if sec_dict['result'] == 1:\n",
    "            clues[sec_dict['letter']] = 1\n",
    "        if sec_dict['result'] == 2:\n",
    "            clues[sec_dict['letter']] = 2\n",
    "        word_score += sec_dict['result']\n",
    "    \n",
    "    #updates our win condition to end loop\n",
    "    if word_score == 10:\n",
    "        game_continues = False\n",
    "    \n",
    "    move_counter += 1\n",
    "    \n",
    "move_counter"
   ]
  },
  {
   "cell_type": "markdown",
   "metadata": {},
   "source": [
    "# Expanding on Strategy to use Clues"
   ]
  },
  {
   "cell_type": "code",
   "execution_count": 7,
   "metadata": {},
   "outputs": [],
   "source": [
    "def clue_func(word_inputted, real_word, clues):\n",
    "    results_dict = game_result(word_inputted, real_word)\n",
    "    word_score = 0\n",
    "    \n",
    "    for position, sec_dict in results_dict.items():\n",
    "        \n",
    "        #takes out the letter if it's not in the word\n",
    "        if sec_dict['result'] == 0:\n",
    "            clues[sec_dict['letter']] = {'position': [position], 'result': 0}\n",
    "        \n",
    "        #takes note of the position(2) of the letter if the letter is in the word\n",
    "        #but not in the correct position\n",
    "        if sec_dict['result'] == 1:\n",
    "            if sec_dict['letter'] not in clues.keys():\n",
    "                clues[sec_dict['letter']] = {'position': [position], 'result': 1}\n",
    "            else:\n",
    "                clues[sec_dict['letter']]['position'].append(position)\n",
    "        \n",
    "        #takes note of letter and position if letter is correct\n",
    "        if sec_dict['result'] == 2:\n",
    "            clues[sec_dict['letter']] = {'position': [position], 'result': 2}\n",
    "        \n",
    "        #aggregates all scores to signal if the word is completely correct\n",
    "        word_score += sec_dict['result']\n",
    "    \n",
    "    return word_score, clues"
   ]
  },
  {
   "cell_type": "code",
   "execution_count": 8,
   "metadata": {},
   "outputs": [
    {
     "data": {
      "text/plain": [
       "['abcde',\n",
       " 'bcdef',\n",
       " 'cdefg',\n",
       " 'defgh',\n",
       " 'efghi',\n",
       " 'fghij',\n",
       " 'ghijk',\n",
       " 'hijkl',\n",
       " 'ijklm',\n",
       " 'jklmn',\n",
       " 'abeif']"
      ]
     },
     "execution_count": 8,
     "metadata": {},
     "output_type": "execute_result"
    }
   ],
   "source": [
    "letters_left = [char for char in 'abcdefghijklmnopqrstuvwxyz']\n",
    "possible_words = []\n",
    "\n",
    "for i in range(0,10):\n",
    "    str = ''\n",
    "    possible_words.append(str.join(letters_left[i:(i+5)]))\n",
    "\n",
    "possible_words.append('abeif')\n",
    "possible_words"
   ]
  },
  {
   "cell_type": "code",
   "execution_count": 9,
   "metadata": {},
   "outputs": [
    {
     "name": "stdout",
     "output_type": "stream",
     "text": [
      "abcde\n",
      "{'a': {'position': [0], 'result': 0}, 'b': {'position': [1], 'result': 0}, 'c': {'position': [2], 'result': 0}, 'd': {'position': [3], 'result': 0}, 'e': {'position': [4], 'result': 0}}\n",
      "fghij\n",
      "{'a': {'position': [0], 'result': 0}, 'b': {'position': [1], 'result': 0}, 'c': {'position': [2], 'result': 0}, 'd': {'position': [3], 'result': 0}, 'e': {'position': [4], 'result': 0}, 'f': {'position': [0], 'result': 0}, 'g': {'position': [1], 'result': 0}, 'h': {'position': [2], 'result': 1}, 'i': {'position': [3], 'result': 1}, 'j': {'position': [4], 'result': 1}}\n",
      "hijkl\n",
      "{'a': {'position': [0], 'result': 0}, 'b': {'position': [1], 'result': 0}, 'c': {'position': [2], 'result': 0}, 'd': {'position': [3], 'result': 0}, 'e': {'position': [4], 'result': 0}, 'f': {'position': [0], 'result': 0}, 'g': {'position': [1], 'result': 0}, 'h': {'position': [0], 'result': 2}, 'i': {'position': [1], 'result': 2}, 'j': {'position': [2], 'result': 2}, 'k': {'position': [3], 'result': 2}, 'l': {'position': [4], 'result': 2}}\n"
     ]
    },
    {
     "data": {
      "text/plain": [
       "3"
      ]
     },
     "execution_count": 9,
     "metadata": {},
     "output_type": "execute_result"
    }
   ],
   "source": [
    "game_continues = True\n",
    "move_counter = 0\n",
    "correct_word = 'hijkl'\n",
    "clues = {}\n",
    "\n",
    "while game_continues:\n",
    "    \n",
    "    ################# Uses clues basically STRAT ###############\n",
    "    correct_letters = {letter:value['position'] for letter, value in clues.items() if value['result'] == 2}\n",
    "    almost_letters = {letter:value['position'] for letter, value in clues.items() if value['result'] == 1}\n",
    "    wrong_letters = [letter for letter in clues.keys() if clues[letter]['result'] == 0]\n",
    "    \n",
    "    words_considered = possible_words.copy()\n",
    "    for word in possible_words:\n",
    "        \n",
    "        #first let's narrow down all words with the words that have the letter\n",
    "        #in the right position\n",
    "        for letter, positions in correct_letters.items():\n",
    "            if word[positions[0]] != letter:\n",
    "                try:\n",
    "                    words_considered.remove(word)\n",
    "                except:\n",
    "                    words_considered = words_considered\n",
    "        \n",
    "        #Let's use the clues where we know the letter is present,\n",
    "        #but not in the right position\n",
    "        for letter, positions in almost_letters.items():\n",
    "            if letter not in word:\n",
    "                try:\n",
    "                    words_considered.remove(word)\n",
    "                except:\n",
    "                    words_considered = words_considered\n",
    "            if word[positions[0]] == letter:\n",
    "                try:\n",
    "                    words_considered.remove(word)\n",
    "                except:\n",
    "                    words_considered = words_considered\n",
    "                    \n",
    "        #Finally let's take out words where letters are not in the word\n",
    "        for letter in wrong_letters:\n",
    "            if letter in word:\n",
    "                try:\n",
    "                    words_considered.remove(word)\n",
    "                except:\n",
    "                    words_considered = words_considered\n",
    "                    \n",
    "    #picks first available word that obeys the clues\n",
    "    word_picked = words_considered[0]\n",
    "    \n",
    "    ################# Uses clues basically STRAT ###############    \n",
    "    \n",
    "    #Gets our clues and updates our letters left\n",
    "    word_score, clue = clue_func(word_picked, correct_word, clues)\n",
    "\n",
    "    #updates our win condition to end loop\n",
    "    if word_score == 10:\n",
    "        game_continues = False\n",
    "    \n",
    "    move_counter += 1\n",
    "    \n",
    "    print(word_picked)\n",
    "    print(clues)\n",
    "    \n",
    "move_counter"
   ]
  },
  {
   "cell_type": "code",
   "execution_count": 10,
   "metadata": {},
   "outputs": [
    {
     "data": {
      "text/plain": [
       "['abcde',\n",
       " 'bcdef',\n",
       " 'cdefg',\n",
       " 'defgh',\n",
       " 'efghi',\n",
       " 'fghij',\n",
       " 'ghijk',\n",
       " 'hijkl',\n",
       " 'ijklm',\n",
       " 'jklmn',\n",
       " 'abeif']"
      ]
     },
     "execution_count": 10,
     "metadata": {},
     "output_type": "execute_result"
    }
   ],
   "source": [
    "letters_left = [char for char in 'abcdefghijklmnopqrstuvwxyz']\n",
    "possible_words = []\n",
    "\n",
    "for i in range(0,10):\n",
    "    str = ''\n",
    "    possible_words.append(str.join(letters_left[i:(i+5)]))\n",
    "\n",
    "possible_words.append('abeif')\n",
    "possible_words"
   ]
  },
  {
   "cell_type": "code",
   "execution_count": 11,
   "metadata": {},
   "outputs": [
    {
     "name": "stdout",
     "output_type": "stream",
     "text": [
      "abcde\n",
      "{'a': {'position': [0], 'result': 2}, 'b': {'position': [1], 'result': 2}, 'c': {'position': [2], 'result': 0}, 'd': {'position': [3], 'result': 0}, 'e': {'position': [4], 'result': 1}}\n",
      "abeif\n",
      "{'a': {'position': [0], 'result': 2}, 'b': {'position': [1], 'result': 2}, 'c': {'position': [2], 'result': 0}, 'd': {'position': [3], 'result': 0}, 'e': {'position': [2], 'result': 2}, 'i': {'position': [3], 'result': 2}, 'f': {'position': [4], 'result': 2}}\n"
     ]
    },
    {
     "data": {
      "text/plain": [
       "2"
      ]
     },
     "execution_count": 11,
     "metadata": {},
     "output_type": "execute_result"
    }
   ],
   "source": [
    "game_continues = True\n",
    "move_counter = 0\n",
    "correct_word = 'abeif'\n",
    "clues = {}\n",
    "\n",
    "while game_continues:\n",
    "    \n",
    "    ################# Uses clues basically STRAT ###############\n",
    "    correct_letters = {letter:value['position'] for letter, value in clues.items() if value['result'] == 2}\n",
    "    almost_letters = {letter:value['position'] for letter, value in clues.items() if value['result'] == 1}\n",
    "    wrong_letters = [letter for letter in clues.keys() if clues[letter]['result'] == 0]\n",
    "    \n",
    "    words_considered = possible_words.copy()\n",
    "    for word in possible_words:\n",
    "        \n",
    "        #first let's narrow down all words with the words that have the letter\n",
    "        #in the right position\n",
    "        for letter, positions in correct_letters.items():\n",
    "            if word[positions[0]] != letter:\n",
    "                try:\n",
    "                    words_considered.remove(word)\n",
    "                except:\n",
    "                    words_considered = words_considered\n",
    "        \n",
    "        #Let's use the clues where we know the letter is present,\n",
    "        #but not in the right position\n",
    "        for letter, positions in almost_letters.items():\n",
    "            if letter not in word:\n",
    "                try:\n",
    "                    words_considered.remove(word)\n",
    "                except:\n",
    "                    words_considered = words_considered\n",
    "            if word[positions[0]] == letter:\n",
    "                try:\n",
    "                    words_considered.remove(word)\n",
    "                except:\n",
    "                    words_considered = words_considered\n",
    "                    \n",
    "        #Finally let's take out words where letters are not in the word\n",
    "        for letter in wrong_letters:\n",
    "            if letter in word:\n",
    "                try:\n",
    "                    words_considered.remove(word)\n",
    "                except:\n",
    "                    words_considered = words_considered\n",
    "                    \n",
    "    #picks first available word that obeys the clues\n",
    "    word_picked = words_considered[0]\n",
    "    \n",
    "    ################# Uses clues basically STRAT ###############    \n",
    "    \n",
    "    #Gets our clues and updates our letters left\n",
    "    word_score, clue = clue_func(word_picked, correct_word, clues)\n",
    "\n",
    "    #updates our win condition to end loop\n",
    "    if word_score == 10:\n",
    "        game_continues = False\n",
    "    \n",
    "    move_counter += 1\n",
    "    \n",
    "    print(word_picked)\n",
    "    print(clues)\n",
    "    \n",
    "move_counter"
   ]
  },
  {
   "cell_type": "markdown",
   "metadata": {},
   "source": [
    "# Bisecting Algorithm"
   ]
  },
  {
   "cell_type": "code",
   "execution_count": 12,
   "metadata": {},
   "outputs": [],
   "source": [
    "def word_filtering(possible_words, clues):\n",
    "\n",
    "    correct_letters = {letter:value['position'] for letter, value in clues.items() if value['result'] == 2}\n",
    "    almost_letters = {letter:value['position'] for letter, value in clues.items() if value['result'] == 1}\n",
    "    wrong_letters = [letter for letter in clues.keys() if clues[letter]['result'] == 0]\n",
    "    \n",
    "    words_considered = possible_words.copy()\n",
    "    for word in possible_words:\n",
    "        \n",
    "        #first let's narrow down all words with the words that have the letter\n",
    "        #in the right position\n",
    "        for letter, positions in correct_letters.items():\n",
    "            if word[positions[0]] != letter:\n",
    "                try:\n",
    "                    words_considered.remove(word)\n",
    "                except:\n",
    "                    words_considered = words_considered\n",
    "        \n",
    "        #Let's use the clues where we know the letter is present,\n",
    "        #but not in the right position\n",
    "        for letter, positions in almost_letters.items():\n",
    "            if letter not in word:\n",
    "                try:\n",
    "                    words_considered.remove(word)\n",
    "                except:\n",
    "                    words_considered = words_considered\n",
    "            for pos in positions:\n",
    "                if word[pos] == letter:\n",
    "                    try:\n",
    "                        words_considered.remove(word)\n",
    "                    except:\n",
    "                        words_considered = words_considered\n",
    "                    \n",
    "        #Finally let's take out words where letters are not in the word\n",
    "        for letter in wrong_letters:\n",
    "            if letter in word:\n",
    "                try:\n",
    "                    words_considered.remove(word)\n",
    "                except:\n",
    "                    words_considered = words_considered\n",
    "                    \n",
    "    return words_considered"
   ]
  },
  {
   "cell_type": "code",
   "execution_count": 13,
   "metadata": {},
   "outputs": [],
   "source": [
    "def binary_tree_words(word_list_list = [[]], letter = ''):\n",
    "    \n",
    "    results_list_list = []\n",
    "    \n",
    "    for word_list in word_list_list:\n",
    "        results_list_list.append([words for words in word_list if letter in words])\n",
    "        results_list_list.append([words for words in word_list if letter not in words])\n",
    "    return results_list_list"
   ]
  },
  {
   "cell_type": "code",
   "execution_count": 14,
   "metadata": {},
   "outputs": [],
   "source": [
    "def word_score_func(branches = [[]]):\n",
    "    branch_size = []\n",
    "\n",
    "    for branch in branches:\n",
    "        branch_size.append(len(branch))\n",
    "\n",
    "    return stats.pstdev(branch_size)"
   ]
  },
  {
   "cell_type": "code",
   "execution_count": 15,
   "metadata": {},
   "outputs": [
    {
     "data": {
      "text/plain": [
       "['abcde',\n",
       " 'bcdef',\n",
       " 'cdefg',\n",
       " 'defgh',\n",
       " 'efghi',\n",
       " 'fghij',\n",
       " 'ghijk',\n",
       " 'hijkl',\n",
       " 'ijklm',\n",
       " 'jklmn',\n",
       " 'abeif']"
      ]
     },
     "execution_count": 15,
     "metadata": {},
     "output_type": "execute_result"
    }
   ],
   "source": [
    "letters_left = [char for char in 'abcdefghijklmnopqrstuvwxyz']\n",
    "possible_words = []\n",
    "\n",
    "for i in range(0,10):\n",
    "    str = ''\n",
    "    possible_words.append(str.join(letters_left[i:(i+5)]))\n",
    "\n",
    "possible_words.append('abeif')\n",
    "possible_words"
   ]
  },
  {
   "cell_type": "code",
   "execution_count": 16,
   "metadata": {},
   "outputs": [
    {
     "name": "stdout",
     "output_type": "stream",
     "text": [
      "efghi\n",
      "abeif\n"
     ]
    },
    {
     "data": {
      "text/plain": [
       "2"
      ]
     },
     "execution_count": 16,
     "metadata": {},
     "output_type": "execute_result"
    }
   ],
   "source": [
    "letters_left = [char for char in 'abcdefghijklmnopqrstuvwxyz']\n",
    "game_continues = True\n",
    "move_counter = 0\n",
    "correct_word = 'abeif'\n",
    "clues = {}\n",
    "\n",
    "while game_continues:\n",
    "    \n",
    "    #Uses common sense clues to eliminate words\n",
    "    words_considered = word_filtering(possible_words, clues)\n",
    "    \n",
    "    ######### Bisecting Algorithm ################\n",
    "    \n",
    "    word_score_dict = {}\n",
    "    \n",
    "    for word in words_considered:\n",
    "        branches = [words_considered]\n",
    "        for nth_letter in word:\n",
    "            branches = binary_tree_words(branches, nth_letter)\n",
    "        word_score_dict[word] = word_score_func(branches)    \n",
    "    word_picked = min(word_score_dict, key=word_score_dict.get)\n",
    "    \n",
    "    ##############################################\n",
    "    \n",
    "    #Gets our clues and updates our letters left\n",
    "    word_score, clues = clue_func(word_picked, correct_word, clues)\n",
    "\n",
    "    #updates our win condition to end loop\n",
    "    if word_score == 10:\n",
    "        game_continues = False\n",
    "    \n",
    "    move_counter += 1\n",
    "    \n",
    "    print(word_picked)\n",
    "    \n",
    "move_counter"
   ]
  },
  {
   "cell_type": "markdown",
   "metadata": {},
   "source": [
    "# Real Use Case"
   ]
  },
  {
   "cell_type": "code",
   "execution_count": 17,
   "metadata": {},
   "outputs": [],
   "source": [
    "import pandas as pd\n",
    "import random\n",
    "import time"
   ]
  },
  {
   "cell_type": "code",
   "execution_count": 18,
   "metadata": {},
   "outputs": [],
   "source": [
    "possible_words = pd.read_csv('wordle_words.csv')['Words'].tolist()"
   ]
  },
  {
   "cell_type": "code",
   "execution_count": 19,
   "metadata": {},
   "outputs": [
    {
     "data": {
      "text/plain": [
       "12972"
      ]
     },
     "execution_count": 19,
     "metadata": {},
     "output_type": "execute_result"
    }
   ],
   "source": [
    "len(possible_words)"
   ]
  },
  {
   "cell_type": "code",
   "execution_count": 20,
   "metadata": {},
   "outputs": [
    {
     "name": "stdout",
     "output_type": "stream",
     "text": [
      "The real word is: aroma\n",
      "word 1 is: arise\n",
      "word 2 is: argot\n",
      "word 3 is: aroma\n",
      "Total moves is 3\n",
      "--- 6.893627405166626 seconds ---\n"
     ]
    }
   ],
   "source": [
    "start_time = time.time()\n",
    "\n",
    "correct_word = 'aroma'\n",
    "print(f'The real word is: {correct_word}')\n",
    "game_continues = True\n",
    "move_counter = 0\n",
    "clues = {}\n",
    "\n",
    "while game_continues:\n",
    "    \n",
    "    #Uses common sense clues to eliminate words\n",
    "    words_considered = word_filtering(possible_words, clues)\n",
    "    \n",
    "    ######### Bisecting Algorithm ################\n",
    "    \n",
    "    if move_counter != 0:\n",
    "        word_score_dict = {}\n",
    "\n",
    "        for word in words_considered:\n",
    "            branches = [words_considered]\n",
    "            for nth_letter in word:\n",
    "                branches = binary_tree_words(branches, nth_letter)\n",
    "            word_score_dict[word] = word_score_func(branches)    \n",
    "        word_picked = min(word_score_dict, key=word_score_dict.get)\n",
    "    \n",
    "    else:\n",
    "        word_picked = 'arise'\n",
    "        \n",
    "    ##############################################\n",
    "    \n",
    "    #Gets our clues and updates our letters left\n",
    "    word_score, clues = clue_func(word_picked, correct_word, clues)\n",
    "\n",
    "    #updates our win condition to end loop\n",
    "    if word_score == 10:\n",
    "        game_continues = False\n",
    "    \n",
    "    move_counter += 1\n",
    "    \n",
    "    print(f'word {move_counter} is: {word_picked}')\n",
    "    \n",
    "print(f'Total moves is {move_counter}')\n",
    "print(\"--- %s seconds ---\" % (time.time() - start_time))"
   ]
  },
  {
   "cell_type": "code",
   "execution_count": 21,
   "metadata": {},
   "outputs": [
    {
     "name": "stdout",
     "output_type": "stream",
     "text": [
      "The real word is: robin\n",
      "1 word is: arise\n",
      "2 word is: intro\n",
      "3 word is: minor\n",
      "4 word is: robin\n",
      "Total moves is 4\n",
      "--- 12.00713300704956 seconds ---\n"
     ]
    }
   ],
   "source": [
    "start_time = time.time()\n",
    "\n",
    "correct_word = 'robin'\n",
    "print(f'The real word is: {correct_word}')\n",
    "game_continues = True\n",
    "move_counter = 0\n",
    "clues = {}\n",
    "\n",
    "while game_continues:\n",
    "    \n",
    "    #Uses common sense clues to eliminate words\n",
    "    words_considered = word_filtering(possible_words, clues)\n",
    "    \n",
    "    ######### Bisecting Algorithm ################\n",
    "    \n",
    "    if move_counter != 0:\n",
    "        word_score_dict = {}\n",
    "\n",
    "        for word in words_considered:\n",
    "            branches = [words_considered]\n",
    "            for nth_letter in word:\n",
    "                branches = binary_tree_words(branches, nth_letter)\n",
    "            word_score_dict[word] = word_score_func(branches)    \n",
    "        word_picked = min(word_score_dict, key=word_score_dict.get)\n",
    "    \n",
    "    else:\n",
    "        word_picked = 'arise'\n",
    "        \n",
    "    ##############################################\n",
    "    \n",
    "    #Gets our clues and updates our letters left\n",
    "    word_score, clues = clue_func(word_picked, correct_word, clues)\n",
    "\n",
    "    #updates our win condition to end loop\n",
    "    if word_score == 10:\n",
    "        game_continues = False\n",
    "    \n",
    "    move_counter += 1\n",
    "    \n",
    "    print(f'{move_counter} word is: {word_picked}')\n",
    "    \n",
    "print(f'Total moves is {move_counter}')\n",
    "print(\"--- %s seconds ---\" % (time.time() - start_time))"
   ]
  },
  {
   "cell_type": "markdown",
   "metadata": {},
   "source": [
    "# Let's run some samples"
   ]
  },
  {
   "cell_type": "code",
   "execution_count": 23,
   "metadata": {},
   "outputs": [
    {
     "name": "stdout",
     "output_type": "stream",
     "text": [
      "junto 4 --- 12.595633506774902 seconds ---\n",
      "pluck 3 --- 6.287319183349609 seconds ---\n",
      "flute 5 --- 18.384512901306152 seconds ---\n",
      "antic 3 --- 6.472094774246216 seconds ---\n",
      "using 4 --- 10.757771968841553 seconds ---\n",
      "style 3 --- 7.360919237136841 seconds ---\n",
      "minty 3 --- 6.914048671722412 seconds ---\n",
      "pupil 5 --- 18.447054624557495 seconds ---\n",
      "serum 3 --- 7.001261234283447 seconds ---\n",
      "spurt 3 --- 7.1922125816345215 seconds ---\n",
      "spite 6 --- 23.069498777389526 seconds ---\n",
      "fritz 4 --- 12.551908493041992 seconds ---\n",
      "crump 3 --- 6.808800935745239 seconds ---\n",
      "quite 3 --- 6.792604923248291 seconds ---\n",
      "botch 3 --- 5.813306093215942 seconds ---\n",
      "slime 5 --- 17.250552892684937 seconds ---\n",
      "clung 4 --- 12.989425659179688 seconds ---\n",
      "class 5 --- 17.672637939453125 seconds ---\n",
      "sharp 4 --- 11.425335884094238 seconds ---\n",
      "drama 6 --- 19.472123384475708 seconds ---\n",
      "comic 5 --- 18.989678621292114 seconds ---\n",
      "bully 5 --- 19.718811750411987 seconds ---\n",
      "woman 4 --- 13.317616701126099 seconds ---\n",
      "duvet 3 --- 7.182864427566528 seconds ---\n",
      "hutch 7 --- 39.16561985015869 seconds ---\n",
      "lager 4 --- 11.159722566604614 seconds ---\n",
      "belch 4 --- 10.026118993759155 seconds ---\n",
      "grass 4 --- 11.412200689315796 seconds ---\n",
      "incur 3 --- 6.971607208251953 seconds ---\n",
      "tooth 5 --- 17.169965028762817 seconds ---\n",
      "koala 4 --- 10.712233066558838 seconds ---\n",
      "crime 3 --- 7.736668586730957 seconds ---\n",
      "party 4 --- 10.86031174659729 seconds ---\n",
      "butte 4 --- 11.36233925819397 seconds ---\n",
      "choke 4 --- 12.632635831832886 seconds ---\n",
      "beech 4 --- 13.424768686294556 seconds ---\n",
      "merge 4 --- 11.788090229034424 seconds ---\n",
      "flood 5 --- 19.054656505584717 seconds ---\n",
      "datum 4 --- 12.481388807296753 seconds ---\n",
      "query 6 --- 20.935348749160767 seconds ---\n",
      "coach 5 --- 16.605631351470947 seconds ---\n",
      "wench 4 --- 11.485004425048828 seconds ---\n",
      "quirk 3 --- 6.003118276596069 seconds ---\n",
      "forge 3 --- 6.29242205619812 seconds ---\n",
      "junto 4 --- 12.600863695144653 seconds ---\n",
      "taken 3 --- 5.942711353302002 seconds ---\n",
      "lilac 3 --- 6.608372211456299 seconds ---\n",
      "stash 3 --- 6.697782278060913 seconds ---\n",
      "villa 5 --- 18.62013292312622 seconds ---\n",
      "maybe 4 --- 12.559679985046387 seconds ---\n",
      "igloo 4 --- 13.922443151473999 seconds ---\n",
      "story 5 --- 19.555153369903564 seconds ---\n",
      "inlet 3 --- 7.300135850906372 seconds ---\n",
      "purer 6 --- 24.600027322769165 seconds ---\n",
      "kitty 7 --- 30.120098114013672 seconds ---\n",
      "dizzy 5 --- 16.237218379974365 seconds ---\n",
      "equal 4 --- 10.523611068725586 seconds ---\n",
      "fishy 5 --- 17.268354654312134 seconds ---\n",
      "awake 6 --- 22.252792358398438 seconds ---\n",
      "hazel 6 --- 21.551395177841187 seconds ---\n",
      "belle 4 --- 10.67145299911499 seconds ---\n",
      "shown 3 --- 6.001312494277954 seconds ---\n",
      "suing 5 --- 16.220810413360596 seconds ---\n",
      "tripe 4 --- 13.637409210205078 seconds ---\n",
      "aisle 2 --- 3.313735008239746 seconds ---\n",
      "filer 4 --- 11.29031252861023 seconds ---\n",
      "vaunt 7 --- 33.0460422039032 seconds ---\n",
      "swath 4 --- 12.895095825195312 seconds ---\n",
      "shoot 4 --- 12.747950315475464 seconds ---\n",
      "unzip 4 --- 15.230803966522217 seconds ---\n",
      "preen 4 --- 14.562004089355469 seconds ---\n",
      "teary 4 --- 13.403252124786377 seconds ---\n",
      "every 4 --- 11.726448774337769 seconds ---\n",
      "night 4 --- 12.44916558265686 seconds ---\n",
      "flier 2 --- 3.133310556411743 seconds ---\n",
      "liken 3 --- 7.586613416671753 seconds ---\n",
      "beady 4 --- 11.51596212387085 seconds ---\n",
      "stack 5 --- 15.95722484588623 seconds ---\n",
      "humph 4 --- 10.31767463684082 seconds ---\n",
      "brood 4 --- 10.656466960906982 seconds ---\n",
      "wooly 5 --- 20.21548628807068 seconds ---\n",
      "stint 6 --- 27.386110305786133 seconds ---\n",
      "willy 8 --- 40.184027433395386 seconds ---\n",
      "sprig 4 --- 13.745139598846436 seconds ---\n",
      "heath 5 --- 16.865479230880737 seconds ---\n",
      "spend 4 --- 10.46284794807434 seconds ---\n",
      "sigma 3 --- 6.086565256118774 seconds ---\n",
      "egret 5 --- 17.334604501724243 seconds ---\n",
      "dusty 4 --- 15.281882762908936 seconds ---\n",
      "cried 3 --- 9.319363832473755 seconds ---\n",
      "given 4 --- 13.672082901000977 seconds ---\n",
      "fraud 5 --- 16.864564895629883 seconds ---\n",
      "woman 4 --- 13.04153847694397 seconds ---\n",
      "pluck 3 --- 7.304512023925781 seconds ---\n",
      "armor 5 --- 16.797642946243286 seconds ---\n",
      "spurt 3 --- 7.5489583015441895 seconds ---\n",
      "dumpy 4 --- 12.695183992385864 seconds ---\n",
      "clown 5 --- 19.50807213783264 seconds ---\n",
      "flyer 4 --- 13.455435037612915 seconds ---\n",
      "hefty 3 --- 7.388483762741089 seconds ---\n"
     ]
    }
   ],
   "source": [
    "#Runs through some samples\n",
    "\n",
    "all_words_results = {}\n",
    "\n",
    "for index in range(0, 100):  \n",
    "    start_time = time.time()\n",
    "    \n",
    "    correct_word = possible_words[random.randint(0, 2314)]\n",
    "    game_continues = True\n",
    "    move_counter = 0\n",
    "    clues = {}\n",
    "\n",
    "    while game_continues:\n",
    "\n",
    "        #Uses common sense clues to eliminate words\n",
    "        words_considered = word_filtering(possible_words, clues)\n",
    "\n",
    "        ######### Bisecting Algorithm ################\n",
    "\n",
    "        if move_counter != 0:\n",
    "            word_score_dict = {}\n",
    "\n",
    "            for word in words_considered:\n",
    "                branches = [words_considered]\n",
    "                for nth_letter in word:\n",
    "                    branches = binary_tree_words(branches, nth_letter)\n",
    "                word_score_dict[word] = word_score_func(branches)    \n",
    "            word_picked = min(word_score_dict, key=word_score_dict.get)\n",
    "\n",
    "        else:\n",
    "            word_picked = 'arise'\n",
    "\n",
    "        ##############################################\n",
    "\n",
    "        #Gets our clues and updates our letters left\n",
    "        word_score, clues = clue_func(word_picked, correct_word, clues)\n",
    "\n",
    "        #updates our win condition to end loop\n",
    "        if word_score == 10:\n",
    "            game_continues = False\n",
    "\n",
    "        move_counter += 1\n",
    "        \n",
    "#         if move_counter > 6:\n",
    "#             break\n",
    "\n",
    "    all_words_results[correct_word] = move_counter\n",
    "    print(correct_word, move_counter,\"--- %s seconds ---\" % (time.time() - start_time))"
   ]
  },
  {
   "cell_type": "code",
   "execution_count": 24,
   "metadata": {},
   "outputs": [
    {
     "data": {
      "text/plain": [
       "{'junto': 4,\n",
       " 'pluck': 3,\n",
       " 'flute': 5,\n",
       " 'antic': 3,\n",
       " 'using': 4,\n",
       " 'style': 3,\n",
       " 'minty': 3,\n",
       " 'pupil': 5,\n",
       " 'serum': 3,\n",
       " 'spurt': 3,\n",
       " 'spite': 6,\n",
       " 'fritz': 4,\n",
       " 'crump': 3,\n",
       " 'quite': 3,\n",
       " 'botch': 3,\n",
       " 'slime': 5,\n",
       " 'clung': 4,\n",
       " 'class': 5,\n",
       " 'sharp': 4,\n",
       " 'drama': 6,\n",
       " 'comic': 5,\n",
       " 'bully': 5,\n",
       " 'woman': 4,\n",
       " 'duvet': 3,\n",
       " 'hutch': 7,\n",
       " 'lager': 4,\n",
       " 'belch': 4,\n",
       " 'grass': 4,\n",
       " 'incur': 3,\n",
       " 'tooth': 5,\n",
       " 'koala': 4,\n",
       " 'crime': 3,\n",
       " 'party': 4,\n",
       " 'butte': 4,\n",
       " 'choke': 4,\n",
       " 'beech': 4,\n",
       " 'merge': 4,\n",
       " 'flood': 5,\n",
       " 'datum': 4,\n",
       " 'query': 6,\n",
       " 'coach': 5,\n",
       " 'wench': 4,\n",
       " 'quirk': 3,\n",
       " 'forge': 3,\n",
       " 'taken': 3,\n",
       " 'lilac': 3,\n",
       " 'stash': 3,\n",
       " 'villa': 5,\n",
       " 'maybe': 4,\n",
       " 'igloo': 4,\n",
       " 'story': 5,\n",
       " 'inlet': 3,\n",
       " 'purer': 6,\n",
       " 'kitty': 7,\n",
       " 'dizzy': 5,\n",
       " 'equal': 4,\n",
       " 'fishy': 5,\n",
       " 'awake': 6,\n",
       " 'hazel': 6,\n",
       " 'belle': 4,\n",
       " 'shown': 3,\n",
       " 'suing': 5,\n",
       " 'tripe': 4,\n",
       " 'aisle': 2,\n",
       " 'filer': 4,\n",
       " 'vaunt': 7,\n",
       " 'swath': 4,\n",
       " 'shoot': 4,\n",
       " 'unzip': 4,\n",
       " 'preen': 4,\n",
       " 'teary': 4,\n",
       " 'every': 4,\n",
       " 'night': 4,\n",
       " 'flier': 2,\n",
       " 'liken': 3,\n",
       " 'beady': 4,\n",
       " 'stack': 5,\n",
       " 'humph': 4,\n",
       " 'brood': 4,\n",
       " 'wooly': 5,\n",
       " 'stint': 6,\n",
       " 'willy': 8,\n",
       " 'sprig': 4,\n",
       " 'heath': 5,\n",
       " 'spend': 4,\n",
       " 'sigma': 3,\n",
       " 'egret': 5,\n",
       " 'dusty': 4,\n",
       " 'cried': 3,\n",
       " 'given': 4,\n",
       " 'fraud': 5,\n",
       " 'armor': 5,\n",
       " 'dumpy': 4,\n",
       " 'clown': 5,\n",
       " 'flyer': 4,\n",
       " 'hefty': 3}"
      ]
     },
     "execution_count": 24,
     "metadata": {},
     "output_type": "execute_result"
    }
   ],
   "source": [
    "all_words_results"
   ]
  },
  {
   "cell_type": "code",
   "execution_count": 25,
   "metadata": {},
   "outputs": [
    {
     "data": {
      "text/plain": [
       "4.21875"
      ]
     },
     "execution_count": 25,
     "metadata": {},
     "output_type": "execute_result"
    }
   ],
   "source": [
    "total = 0\n",
    "for i in all_words_results.values():\n",
    "    total += i\n",
    "total / len(all_words_results)"
   ]
  },
  {
   "cell_type": "markdown",
   "metadata": {},
   "source": [
    "# All Correct Words"
   ]
  },
  {
   "cell_type": "code",
   "execution_count": null,
   "metadata": {},
   "outputs": [],
   "source": [
    "#Runs through all correct answers\n",
    "\n",
    "start_time = time.time()\n",
    "all_words_results = {}\n",
    "\n",
    "for index in range(0, 2314):   \n",
    "    correct_word = possible_words[index]\n",
    "    game_continues = True\n",
    "    move_counter = 0\n",
    "    clues = {}\n",
    "\n",
    "    while game_continues:\n",
    "\n",
    "        #Uses common sense clues to eliminate words\n",
    "        words_considered = word_filtering(possible_words, clues)\n",
    "\n",
    "        ######### Bisecting Algorithm ################\n",
    "\n",
    "        if move_counter != 0:\n",
    "            word_score_dict = {}\n",
    "\n",
    "            for word in words_considered:\n",
    "                branches = [words_considered]\n",
    "                for nth_letter in word:\n",
    "                    branches = binary_tree_words(branches, nth_letter)\n",
    "                word_score_dict[word] = word_score_func(branches)    \n",
    "            word_picked = min(word_score_dict, key=word_score_dict.get)\n",
    "\n",
    "        else:\n",
    "            word_picked = 'arise'\n",
    "\n",
    "        ##############################################\n",
    "\n",
    "        #Gets our clues and updates our letters left\n",
    "        word_score, clues = clue_func(word_picked, correct_word, clues)\n",
    "\n",
    "        #updates our win condition to end loop\n",
    "        if word_score == 10:\n",
    "            game_continues = False\n",
    "\n",
    "        move_counter += 1\n",
    "\n",
    "    all_words_results[correct_word] = move_counter\n",
    "\n",
    "    \n",
    "\n",
    "print(\"--- %s seconds ---\" % (time.time() - start_time))"
   ]
  },
  {
   "cell_type": "code",
   "execution_count": null,
   "metadata": {},
   "outputs": [],
   "source": []
  },
  {
   "cell_type": "code",
   "execution_count": null,
   "metadata": {},
   "outputs": [],
   "source": []
  }
 ],
 "metadata": {
  "kernelspec": {
   "display_name": "Python 3",
   "language": "python",
   "name": "python3"
  },
  "language_info": {
   "codemirror_mode": {
    "name": "ipython",
    "version": 3
   },
   "file_extension": ".py",
   "mimetype": "text/x-python",
   "name": "python",
   "nbconvert_exporter": "python",
   "pygments_lexer": "ipython3",
   "version": "3.7.6"
  }
 },
 "nbformat": 4,
 "nbformat_minor": 2
}
